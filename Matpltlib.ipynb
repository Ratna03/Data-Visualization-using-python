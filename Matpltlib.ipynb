{
 "cells": [
  {
   "cell_type": "code",
   "execution_count": 8,
   "metadata": {},
   "outputs": [],
   "source": [
    "# Artist Layer\n",
    "\n",
    "from matplotlib.backends.backend_agg import FigureCanvas # Import Figurecanvas\n",
    "from matplotlib.figure import Figure    # Import figure artist\n",
    "fig = Figure()\n",
    "canvas = FigureCanvas(fig)\n",
    "\n",
    "#create 10000 random numbers using numpy\n",
    "import numpy as np\n",
    "x = np.random.randn(10000)\n",
    "ax = fig.add_subplot(111) # create an axis artist\n",
    "ax.hist(x , 100) # generate the histogram of 10000 numbers\n",
    "\n",
    "# add a title to the figure and save it\n",
    "ax.set_title('Normal distribution with $\\mu=0 , \\sigma = 1$ ')\n",
    "fig.savefig('matplotlib_histogram.png')\n"
   ]
  },
  {
   "cell_type": "code",
   "execution_count": 3,
   "metadata": {},
   "outputs": [
    {
     "data": {
      "image/png": "[encoded data removed]",
      "text/plain": [
       "<matplotlib.figure.Figure at 0x106d94ed0>"
      ]
     },
     "metadata": {},
     "output_type": "display_data"
    }
   ],
   "source": [
    "#Scripting Layer\n",
    "\n",
    "import matplotlib.pyplot as plt\n",
    "import numpy as np\n",
    "\n",
    "x = np.random.randn(10000)\n",
    "plt.hist(x , 100)\n",
    "plt.title('Normal distribution with $\\mu=0 , \\sigma = 1$')\n",
    "plt.savefig('matplotlib_histogram.png')\n",
    "plt.show()\n"
   ]
  },
  {
   "cell_type": "code",
   "execution_count": null,
   "metadata": {
    "collapsed": true
   },
   "outputs": [],
   "source": []
  },
  {
   "cell_type": "code",
   "execution_count": null,
   "metadata": {
    "collapsed": true
   },
   "outputs": [],
   "source": []
  }
 ],
 "metadata": {
  "kernelspec": {
   "display_name": "Python 2",
   "language": "python",
   "name": "python2"
  },
  "language_info": {
   "codemirror_mode": {
    "name": "ipython",
    "version": 2
   },
   "file_extension": ".py",
   "mimetype": "text/x-python",
   "name": "python",
   "nbconvert_exporter": "python",
   "pygments_lexer": "ipython2",
   "version": "2.7.14"
  }
 },
 "nbformat": 4,
 "nbformat_minor": 2
}
